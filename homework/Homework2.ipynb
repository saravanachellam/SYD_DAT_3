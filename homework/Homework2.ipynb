{
 "cells": [
  {
   "cell_type": "markdown",
   "metadata": {},
   "source": [
    "# SYD DAT 3 Lab 2 - Visualisation and Regression\n",
    "\n",
    "##Homework - Due 8th January 2016\n",
    "\n",
    "#### Setup\n",
    "* Signup for an AWS account and redeem the credits from GA\n",
    "\n",
    "#### Communication\n",
    "* Imagine you are trying to explain to someone what Linear Regression is - but they have no programming/maths experience? How would you explain the overall process, what a p-value means and what R-Squared means?\n",
    
    "\n",
    "<p>Understand what the business background and problem is. Assuming they want to predict the sales of a particular product, then i would tell them that we could predict the sales by having past sales information (predictors).The example of predictors could be price,TV advertisement ,Online advertising etc.</p>\n",
        
     
    "<p>What it will be able to do :Predict the sales of the product using the predictor variables.</p>\n",

   "<p>Selection of most important variable for prediction :Use correlation matrix, forward selection and backward selection, mixed selection to reduce select most important variables.Also reduce multi collinearity(not too many correlated variables as it reduces model accuracy) .The P value is used by us to tell if the predictor variable is associated with the response variable or not. </p>\n",

    "<p>How effective and reliable the model will be ?This can be checked by testing with different data sets.The R squared means how well the model could explain the variability in the new data set.So if we have high R square it means the model predicts the sales for the new data set well(ie how close  the data is fit with the regression line ).</p>\n",
    
    "\n",
    "* Write a review of one Small Multiple project of your choice. Include a link, what you thought the purpose of the visualisation was and what you discovered as a result. Is there anything you would add to it or like to see?\n",
    "\n",
    "\n",
    "  Small multiples-http://www.theguardian.com/news/datablog/interactive/2014/apr/15/australia-football-interactive-statistics \n",

    
    "<p>Australia’s four Sports leagues compared – AFL, Rugby, Football and A-league .Purpose of the visualisation was to compare the sports leagues of Australia based on different criteria:-</p>\n",
 "\n",

"* Average height, weight and height, weight, age, BMI of all sports lined up.\n",
 "\n",
"* Average height and weight for each playing position for that sport.\n",
 "\n",
"* Popularity of the sports by TV viewership, crowd numbers and amateur participation.\n",
 "\n",
"* Average Weekly attendance, Grand final attendance, and Weekly viewership and participation rates.\n",
 "\n",
"* Barassi line before and how each sport has spread to other territories now.\n",
 "\n",
"* The codes section for each sport tell us about the basic composition of the sport and other information.\n",
 "\n",

"<p>The visualisation was really good to see, especially me being a sports fan. I thought it would be nice to see some key financial figures too like:-</p>\n",
"\n",
"<p> What i thought could be added more:</p>\n",
"\n",
"* Average tickets sales in the year for each sport,team.\n",
"\n",
"* Average crowd loyalty (to stadiums) for each rugby and AFL teams in a year or defined period.For example for south Sydney what is the average crowd coming to see each match.",
"\n",
"* Ticket sales trend for each team over the season/different seasons. \n",
 "\n",
  "\n", 
  "#### Machine Learning\n",
    "\n",
    "* Read chapters 3 and 6 of Introduction to Statistical Learning\n",
    "* Describe 3 ways we can select what features to use in a model\n",
     "\n",
    "<p>  Feature selection is done to select the features that contribute most to predicting the response variable .Having too many irrelevant features in the data can decrease the accuracy of the model. Three benefits of performing the feature selection are :- </p>\n",
  "\n",

 "* Reduces over fitting\n",
 "* Improves accuracy\n",
 "*Reduces Training \n",
 "\n",
"<p> Three ways of feature selection are as follows:-</p>\n",
 "\n",

"<p> Filter Methods:Filter feature selection method applies a statistical measure to assign a scoring to each feature.The features are ranked by the score and either selected to be kept or removed from the data set. It is often considers the features independently.Example:-Correlation coefficient scores, chi squared test. </p>\n",

 "\n",

"<p>Wrapper methods:They consider the selection of a set of features as a search problem,where different combinations are prepared,analysed and compared with other combinations.Then a score is assigned by a predictive model based on model accuracy.Example: - Forward and Backward passes, Random hill climbing.</p>\n",

 "\n",

"<p>Embedded methods :They learn which features best contribute to the accuracy of the mode while the model is being created. A common method here is the regularisation method.This method used in regression adds a penalisation parameter which is used in addition to the SSE,this penalisation parameter takes into account bad extra features . Examples:Regularisation methods – LASSO,Ridge regression. </p>\n",
    
     "\n",
    "* Complete the first 3 exercises from chapter 3 in Python\n",
    "\n",
     "\n",
    "#### Course Project\n",
     "\n",
    "* Draft/Sketch on paper (or wireframe) some data visualisations that would be useful for you to explore your data set\n",
    "\n",
"  Project sample data visualisations -http://public.tableau.com/profile/acotgreave.tableausoftware.com#!/vizhome/Premiershiplastyear/Whathappenedlastyear \n",
 "\n",
 
    "* Is there any regresion techniques you could use in your project? Write them down and what you think you would get out of it.\n",
    "\n",
    
    "<p>The regression techniques i think that will be used in my project is logistic regression to predict the match outcomes.However,other regression techniques also might be used to predict numerical values like player valuation based on different league markets(which is were i think linear regression will be used).</p>\n",
     "\n",
      "\n",
    "**Instructions: copy this file and append your name in the filename, e.g. Homework2_ian_hansel.ipynb.\n",
    "Then commit this in your local repository, push it to your github account and create a pull request so I can see your work. Remeber if you get stuck to look at the slides going over Fork, Clone, Commit, Push and Pull request.**"
   ]
  },
  {
   "cell_type": "code",
   "execution_count": null,
   "metadata": {
    "collapsed": true
   },
   "outputs": [],
   "source": []
  }
 ],
 "metadata": {
  "kernelspec": {
   "display_name": "Python 2",
   "language": "python",
   "name": "python2"
  },
  "language_info": {
   "codemirror_mode": {
    "name": "ipython",
    "version": 2
   },
   "file_extension": ".py",
   "mimetype": "text/x-python",
   "name": "python",
   "nbconvert_exporter": "python",
   "pygments_lexer": "ipython2",
   "version": "2.7.10"
  }
 },
 "nbformat": 4,
 "nbformat_minor": 0
}
