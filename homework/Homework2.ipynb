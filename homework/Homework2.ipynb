{
 "cells": [
  {
   "cell_type": "markdown",
   "metadata": {},
   "source": [
    "# SYD DAT 3 Lab 2 - Visualisation and Regression\n",
    "\n",
    "##Homework - Due 8th January 2016\n",
    "\n",
    "#### Setup\n",
    "* Signup for an AWS account and redeem the credits from GA\n",
    "\n",
    "#### Communication\n",
    "* Imagine you are trying to explain to someone what Linear Regression is - but they have no programming/maths experience? How would you explain the overall process, what a p-value means and what R-Squared means?\n",
    
    "\n",
    "<p>Understand what the business background and problem is. Assuming they want to predict the sales of a particular product, then i would tell them that we could predict the sales by having past sales information (predictors).The example of predictors could be price,TV advertisement ,Online advertising etc.</p>\n",
        
     
    "<p>What it will be able to do :Predict the sales of the product using the predictor variables.</p>\n",

   "<p>Selection of most important variable for prediction :Use correlation matrix, forward selection and backward selection, mixed selection to reduce select most important variables.Also reduce multi collinearity(not too many correlated variables as it reduces model accuracy) .The P value is used by us to tell if the predictor variable is associated with the response variable or not. </p>\n",

    "<p>How effective and reliable the model will be ?This can be checked by testing with different data sets.The R squared means how well the model could explain the variability in the new data set.So if we have high R square it means the model predicts the sales for the new data set well(ie how close  the data is fit with the regression line ).</p>\n",
    
    "\n",
    "* Write a review of one Small Multiple project of your choice. Include a link, what you thought the purpose of the visualisation was and what you discovered as a result. Is there anything you would add to it or like to see?\n",
    "\n",
    
    "#### Machine Learning\n",
    "* Read chapters 3 and 6 of Introduction to Statistical Learning\n",
    "* Describe 3 ways we can select what features to use in a model\n",
    "* Complete the first 3 exercises from chapter 3 in Python\n",
    "\n",
    "#### Course Project\n",
    "* Draft/Sketch on paper (or wireframe) some data visualisations that would be useful for you to explore your data set\n",
    "* Is there any regresion techniques you could use in your project? Write them down and what you think you would get out of it.\n",
    "\n",
    "**Instructions: copy this file and append your name in the filename, e.g. Homework2_ian_hansel.ipynb.\n",
    "Then commit this in your local repository, push it to your github account and create a pull request so I can see your work. Remeber if you get stuck to look at the slides going over Fork, Clone, Commit, Push and Pull request.**"
   ]
  },
  {
   "cell_type": "code",
   "execution_count": null,
   "metadata": {
    "collapsed": true
   },
   "outputs": [],
   "source": []
  }
 ],
 "metadata": {
  "kernelspec": {
   "display_name": "Python 2",
   "language": "python",
   "name": "python2"
  },
  "language_info": {
   "codemirror_mode": {
    "name": "ipython",
    "version": 2
   },
   "file_extension": ".py",
   "mimetype": "text/x-python",
   "name": "python",
   "nbconvert_exporter": "python",
   "pygments_lexer": "ipython2",
   "version": "2.7.10"
  }
 },
 "nbformat": 4,
 "nbformat_minor": 0
}
